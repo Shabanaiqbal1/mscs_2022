{
  "nbformat": 4,
  "nbformat_minor": 0,
  "metadata": {
    "colab": {
      "provenance": []
    },
    "kernelspec": {
      "name": "python3",
      "display_name": "Python 3"
    },
    "language_info": {
      "name": "python"
    }
  },
  "cells": [
    {
      "cell_type": "code",
      "execution_count": null,
      "metadata": {
        "id": "YLiVvXLWcOWn"
      },
      "outputs": [],
      "source": []
    },
    {
      "cell_type": "markdown",
      "source": [
        "6-3. Glossary: A Python dictionary can be used to model an actual dictionary . However, to avoid confusion, let’s call it a glossary . •\tThink of five programming words you’ve learned about in the previous chapters . Use these words as the keys in your glossary, and store their meanings as values . •\tPrint each word and its meaning as neatly formatted output . You might print the word followed by a colon and then its meaning, or print the word on one line and then print its meaning indented on a second line . Use the newline character (\\n) to insert a blank line between each word-meaning pair in your output .\n"
      ],
      "metadata": {
        "id": "RwYTosVdcTDM"
      }
    },
    {
      "cell_type": "code",
      "source": [
        "glossary = {\n",
        "    'list': 'A collection of items.',\n",
        "    'loop':' work through a collection of items.',\n",
        "    'python':'a programing language.',\n",
        "    'CPU':\"Central proccessing unit.\",\n",
        "\n",
        "}\n",
        "word='list'\n",
        "print(\"\\n\" + word.title()+\":\" +glossary[word])\n",
        "\n",
        "word='loop'\n",
        "print(\"\\n\" + word.title() +\":\" +glossary[word]) \n",
        "\n",
        "word='python'\n",
        "print(\"\\n\" + word.title()+\":\" +glossary[word])\n",
        "\n",
        "word='CPU'\n",
        "print(\"\\n\" + word.title()+\":\" +glossary[word]) "
      ],
      "metadata": {
        "colab": {
          "base_uri": "https://localhost:8080/"
        },
        "id": "yjwbnlzicUQV",
        "outputId": "c7fd63b7-a32a-4253-8bac-2256498bad87"
      },
      "execution_count": 3,
      "outputs": [
        {
          "output_type": "stream",
          "name": "stdout",
          "text": [
            "\n",
            "List:A collection of items.\n",
            "\n",
            "Loop: work through a collection of items.\n",
            "\n",
            "Python:a programing language.\n",
            "\n",
            "Cpu:Central proccessing unit.\n"
          ]
        }
      ]
    },
    {
      "cell_type": "markdown",
      "source": [
        "6-11. Cities: Make a dictionary called cities . Use the names of three cities as keys in your dictionary . Create a dictionary of information about each city and include the country that the city is in, its approximate population, and one fact about that city . The keys for each city’s dictionary should be something like country, population, and fact . Print the name of each city and all of the infor- mation you have stored about it . "
      ],
      "metadata": {
        "id": "guOMV4G-fsEM"
      }
    },
    {
      "cell_type": "code",
      "source": [
        "cities={\n",
        "  'Lahore':{\n",
        "      \n",
        "        'country': 'pakistan',\n",
        "        'population': '13540000',\n",
        "        'rigionname': 'Majha',\n",
        "\n",
        "    },\n",
        "    'Delhi':{\n",
        "        \n",
        "        'country': 'india',\n",
        "        'population': '32066000',\n",
        "        'rigionname': 'north_west',\n",
        "\n",
        "    },\n",
        "    'shinghai':{\n",
        "        \n",
        "        'country': 'china',\n",
        "        'population': '28517000',\n",
        "        'rigionname': 'East china',\n",
        "\n",
        "    }\n",
        "}\n",
        "\n",
        "for city,city_info in cities.items():\n",
        "  country=city_info['country'].title()\n",
        "  population= city_info['population']\n",
        "  rigions= city_info['rigionname'].title()\n",
        "  print(\"\\n\" + city.title()+\"is in \" + country+\".\")\n",
        "  print(\"it has a population of about \" + str(population)+\".\")\n",
        "  print(\"its rigion is \" + rigions + \".\")"
      ],
      "metadata": {
        "colab": {
          "base_uri": "https://localhost:8080/"
        },
        "id": "Mfkn2Ov9f6Bw",
        "outputId": "02fb5013-58f0-492d-94dc-a25c6c716636"
      },
      "execution_count": 25,
      "outputs": [
        {
          "output_type": "stream",
          "name": "stdout",
          "text": [
            "\n",
            "Lahoreis in Pakistan.\n",
            "it has a population of about 13540000.\n",
            "its rigion is Majha.\n",
            "\n",
            "Delhiis in India.\n",
            "it has a population of about 32066000.\n",
            "its rigion is North_West.\n",
            "\n",
            "Shinghaiis in China.\n",
            "it has a population of about 28517000.\n",
            "its rigion is East China.\n"
          ]
        }
      ]
    },
    {
      "cell_type": "markdown",
      "source": [
        "6-12. Extensions: We’re now working with examples that are complex enough that they can be extended in any number of ways . Use one of the example pro- grams from this chapter, and extend it by adding new keys and values, chang- ing the context of the program or improving the formatting of the output ."
      ],
      "metadata": {
        "id": "DCx97k54WhlX"
      }
    },
    {
      "cell_type": "code",
      "source": [
        "favorit_food={\n",
        "    'sadeem': 'noodles',\n",
        "    'insha': 'rice',\n",
        "    'shazain': 'dessert',\n",
        "}\n",
        "print(\"These items are in the dictionary.\")\n",
        "for name,food in favorit_food.items():\n",
        "  print(name.title()+ \" 's favorit food is:\"+food.title())\n",
        "\n",
        "#adding new keys in the dictionary\n",
        "\n",
        "favorit_food['shana']='chicken'\n",
        "favorit_food['javed']='pizza'\n",
        "\n",
        "print(\"\\n following items are in the dictionary by adding new key values.\")\n",
        "for name,food in favorit_food.items():\n",
        "  print(name.title()+ \" 's favorit food is....>>>:\"+food.upper())\n",
        "\n"
      ],
      "metadata": {
        "colab": {
          "base_uri": "https://localhost:8080/"
        },
        "id": "xX7K28zlWjRm",
        "outputId": "afc9e65a-c140-4b67-a6cc-7189d0672f6d"
      },
      "execution_count": 1,
      "outputs": [
        {
          "output_type": "stream",
          "name": "stdout",
          "text": [
            "These items are in the dictionary.\n",
            "Sadeem 's favorit food is:Noodles\n",
            "Insha 's favorit food is:Rice\n",
            "Shazain 's favorit food is:Dessert\n",
            "\n",
            " following items are in the dictionary by adding new key values.\n",
            "Sadeem 's favorit food is....>>>:NOODLES\n",
            "Insha 's favorit food is....>>>:RICE\n",
            "Shazain 's favorit food is....>>>:DESSERT\n",
            "Shana 's favorit food is....>>>:CHICKEN\n",
            "Javed 's favorit food is....>>>:PIZZA\n"
          ]
        }
      ]
    }
  ]
}