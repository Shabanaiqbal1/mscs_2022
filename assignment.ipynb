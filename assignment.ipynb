{
  "nbformat": 4,
  "nbformat_minor": 0,
  "metadata": {
    "colab": {
      "provenance": []
    },
    "kernelspec": {
      "name": "python3",
      "display_name": "Python 3"
    },
    "language_info": {
      "name": "python"
    }
  },
  "cells": [
    {
      "cell_type": "code",
      "execution_count": null,
      "metadata": {
        "id": "mO5ZJ8J3aQJN"
      },
      "outputs": [],
      "source": []
    },
    {
      "cell_type": "markdown",
      "source": [
        "## Q  If you could invite anyone, living or deceased, to dinner, who would you invite? Make a list that includes at least three people you’d like to invite to dinner . Then use your list to print a message to each person, inviting them to dinner . \n"
      ],
      "metadata": {
        "id": "cRXP8XALiYU8"
      }
    },
    {
      "cell_type": "code",
      "source": [
        "shabana_friend =[\"munazah\",\"rehana\",\"asma\"];\n",
        "print(\"dear \"+shabana_friend[0]+\",\"+shabana_friend[1]+\",\"+shabana_friend[2]+\" you all are invited to dinner\")"
      ],
      "metadata": {
        "colab": {
          "base_uri": "https://localhost:8080/"
        },
        "id": "RNU0zsSHl-xS",
        "outputId": "fe2ca96b-3ee4-465f-cbab-55b15e8ca2c2"
      },
      "execution_count": 13,
      "outputs": [
        {
          "output_type": "stream",
          "name": "stdout",
          "text": [
            "dear munazah,rehana,asma you all are invited to dinner\n"
          ]
        }
      ]
    },
    {
      "cell_type": "markdown",
      "source": [
        "Q## 3.5-- You just heard that one of your guests can’t make the dinner, so you need to send out a new set of invitations . You’ll have to think of someone else to invite . •\tStart with your program from Exercise 3-4 . Add a print statement at the end of your program stating the name of the guest who can’t make it . •\tModify your list, replacing the name of the guest who can’t make it with the name of the new person you are inviting . •\tPrint a second set of invitation messages, one for each person who is still in your list ."
      ],
      "metadata": {
        "id": "tmalUxLxr2F7"
      }
    },
    {
      "cell_type": "code",
      "source": [
        "shabana_friend =[\"munazah\",\"rehana\",\"asma\"]; \n",
        "print(shabana_friend[2]+\" will not be able to join us on dinner\")\n",
        "\n",
        "shabana_friend[2] = \"hira\";\n",
        "print(\"dear \"+shabana_friend[0]+\", you all are invited to dinner\")\n",
        "print(\"dear \"+shabana_friend[1]+\", you all are invited to dinner\")\n",
        "print(\"dear \"+shabana_friend[2]+\", you all are invited to dinner\")"
      ],
      "metadata": {
        "colab": {
          "base_uri": "https://localhost:8080/"
        },
        "id": "zMxaG6qjsXo4",
        "outputId": "366f2780-7267-4cb3-9999-dec2c08ba74a"
      },
      "execution_count": 22,
      "outputs": [
        {
          "output_type": "stream",
          "name": "stdout",
          "text": [
            "asma will not be able to join us on dinner\n",
            "dear munazah, you all are invited to dinner\n",
            "dear rehana, you all are invited to dinner\n",
            "dear hira, you all are invited to dinner\n"
          ]
        }
      ]
    },
    {
      "cell_type": "markdown",
      "source": [
        "Q# 3.6  You just found a bigger dinner table, so now more space is available . Think of three more guests to invite to dinner . •\tStart with your program from Exercise 3-4 or Exercise 3-5 . Add a print statement to the end of your program informing people that you found a bigger dinner table . •\tUse insert() to add one new guest to the beginning of your list . •\tUse insert() to add one new guest to the middle of your list . •\tUse append() to add one new guest to the end of your list . •\tPrint a new set of invitation messages, one for each person in your list ."
      ],
      "metadata": {
        "id": "5Qvo9GUFqN4I"
      }
    },
    {
      "cell_type": "code",
      "source": [
        "print(shabana_friend)"
      ],
      "metadata": {
        "colab": {
          "base_uri": "https://localhost:8080/"
        },
        "id": "TIdelmW5qklP",
        "outputId": "c83079d6-a233-42b7-af68-186e2b6c769d"
      },
      "execution_count": 23,
      "outputs": [
        {
          "output_type": "stream",
          "name": "stdout",
          "text": [
            "['munazah', 'rehana', 'hira']\n"
          ]
        }
      ]
    },
    {
      "cell_type": "code",
      "source": [
        "\n",
        "shabana_friend=['munazah','rehana','hira']\n",
        "print(\"dear friends, we have enough place. So I am inviting you three pepole.\")\n",
        "shabana_friend.insert(0,'shana')\n",
        "shabana_friend.insert(2,'insha')\n",
        "shabana_friend.append('asia')\n",
        "print(\"dear \"+shabana_friend[0]+\", you all are invited to dinner\")\n",
        "print(\"dear \"+shabana_friend[1]+\", you all are invited to dinner\")\n",
        "print(\"dear \"+shabana_friend[2]+\", you all are invited to dinner\")\n",
        "print(\"dear \"+shabana_friend[3]+\", you all are invited to dinner\")\n",
        "print(\"dear \"+shabana_friend[4]+\", you all are invited to dinner\")\n",
        "print(\"dear \"+shabana_friend[5]+\", you all are invited to dinner\")\n"
      ],
      "metadata": {
        "colab": {
          "base_uri": "https://localhost:8080/"
        },
        "id": "tKu-KhnjsD3T",
        "outputId": "b1e2fb01-0d92-46dd-a16c-ccae43ad678d"
      },
      "execution_count": 5,
      "outputs": [
        {
          "output_type": "stream",
          "name": "stdout",
          "text": [
            "dear friends, we have enough place. So I am inviting you three pepole.\n",
            "dear shana, you all are invited to dinner\n",
            "dear munazah, you all are invited to dinner\n",
            "dear insha, you all are invited to dinner\n",
            "dear rehana, you all are invited to dinner\n",
            "dear hira, you all are invited to dinner\n",
            "dear asia, you all are invited to dinner\n"
          ]
        }
      ]
    },
    {
      "cell_type": "markdown",
      "source": [
        "-7. Shrinking Guest List: You just found out that your new dinner table won’t arrive in time for the dinner, and you have space for only two guests . •\tStart with your program from Exercise 3-6 . Add a new line that prints a message saying that you can invite only two people for dinner . •\tUse pop() to remove guests from your list one at a time until only two names remain in your list . Each time you pop a name from your list, print a message to that person letting them know you’re sorry you can’t invite them to dinner . •\tPrint a message to each of the two people still on your list, letting them know they’re still invited . •\tUse del to remove the last two names from your list, so you have an empty list . Print your list to make sure you actually have an empty list at the end of your program .\n"
      ],
      "metadata": {
        "id": "qEdlaAnJVriQ"
      }
    },
    {
      "cell_type": "code",
      "source": [
        "shabana_friend= ['shana','munazah','insha','rehana','hira','asia']\n",
        "print(\"sorry friend,only two friends cane attend dinner\")\n",
        "friend1_removed=shabana_friend.pop(0)\n",
        "print(\"sorry \"+friend1_removed+\" you cant attend the dinner\")\n",
        "friend2_removed=shabana_friend.pop(0)\n",
        "print(\"sorry \"+friend2_removed+\" you cant attend the dinner\")\n",
        "friend3_removed=shabana_friend.pop(0)\n",
        "print(\"sorry \"+friend3_removed+\" you cant attend the dinner\")\n",
        "friend4_removed=shabana_friend.pop(0)\n",
        "print(\"sorry \"+friend4_removed+\" you cant attend the dinner\")\n",
        "print(\"dear \"+shabana_friend[0]+\" you cant attend the dinner\")\n",
        "print(\"dear \"+shabana_friend[1]+\" you cant attend the dinner\")\n",
        "del shabana_friend[0]\n",
        "del shabana_friend[1]\n",
        "priend(shabana_friend)\n"
      ],
      "metadata": {
        "colab": {
          "base_uri": "https://localhost:8080/",
          "height": 356
        },
        "id": "f_mo3GFnVuR6",
        "outputId": "d862e7a8-549d-47e6-a5bd-9066f6d17bde"
      },
      "execution_count": 8,
      "outputs": [
        {
          "output_type": "stream",
          "name": "stdout",
          "text": [
            "sorry friend,only two friends cane attend dinner\n",
            "sorry shana you cant attend the dinner\n",
            "sorry munazah you cant attend the dinner\n",
            "sorry insha you cant attend the dinner\n",
            "sorry rehana you cant attend the dinner\n",
            "dear hira you cant attend the dinner\n",
            "dear asia you cant attend the dinner\n"
          ]
        },
        {
          "output_type": "error",
          "ename": "IndexError",
          "evalue": "ignored",
          "traceback": [
            "\u001b[0;31m---------------------------------------------------------------------------\u001b[0m",
            "\u001b[0;31mIndexError\u001b[0m                                Traceback (most recent call last)",
            "\u001b[0;32m<ipython-input-8-123c6e0fafa1>\u001b[0m in \u001b[0;36m<module>\u001b[0;34m\u001b[0m\n\u001b[1;32m     12\u001b[0m \u001b[0mprint\u001b[0m\u001b[0;34m(\u001b[0m\u001b[0;34m\"dear \"\u001b[0m\u001b[0;34m+\u001b[0m\u001b[0mshabana_friend\u001b[0m\u001b[0;34m[\u001b[0m\u001b[0;36m1\u001b[0m\u001b[0;34m]\u001b[0m\u001b[0;34m+\u001b[0m\u001b[0;34m\" you cant attend the dinner\"\u001b[0m\u001b[0;34m)\u001b[0m\u001b[0;34m\u001b[0m\u001b[0;34m\u001b[0m\u001b[0m\n\u001b[1;32m     13\u001b[0m \u001b[0;32mdel\u001b[0m \u001b[0mshabana_friend\u001b[0m\u001b[0;34m[\u001b[0m\u001b[0;36m0\u001b[0m\u001b[0;34m]\u001b[0m\u001b[0;34m\u001b[0m\u001b[0;34m\u001b[0m\u001b[0m\n\u001b[0;32m---> 14\u001b[0;31m \u001b[0;32mdel\u001b[0m \u001b[0mshabana_friend\u001b[0m\u001b[0;34m[\u001b[0m\u001b[0;36m1\u001b[0m\u001b[0;34m]\u001b[0m\u001b[0;34m\u001b[0m\u001b[0;34m\u001b[0m\u001b[0m\n\u001b[0m\u001b[1;32m     15\u001b[0m \u001b[0mpriend\u001b[0m\u001b[0;34m(\u001b[0m\u001b[0mshabana_friend\u001b[0m\u001b[0;34m)\u001b[0m\u001b[0;34m\u001b[0m\u001b[0;34m\u001b[0m\u001b[0m\n",
            "\u001b[0;31mIndexError\u001b[0m: list assignment index out of range"
          ]
        }
      ]
    },
    {
      "cell_type": "markdown",
      "source": [],
      "metadata": {
        "id": "_as2J6oVsFTM"
      }
    },
    {
      "cell_type": "markdown",
      "source": [],
      "metadata": {
        "id": "WwtXs83OsGYQ"
      }
    }
  ]
}