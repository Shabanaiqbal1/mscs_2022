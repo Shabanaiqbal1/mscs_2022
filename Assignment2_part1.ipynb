{
  "nbformat": 4,
  "nbformat_minor": 0,
  "metadata": {
    "colab": {
      "provenance": []
    },
    "kernelspec": {
      "name": "python3",
      "display_name": "Python 3"
    },
    "language_info": {
      "name": "python"
    }
  },
  "cells": [
    {
      "cell_type": "code",
      "execution_count": null,
      "metadata": {
        "id": "56HqriVwJr-r"
      },
      "outputs": [],
      "source": []
    },
    {
      "cell_type": "markdown",
      "source": [
        "4-13. Buffet: A buffet-style restaurant offers only five basic foods . Think of five simple foods, and store them in a tuple . •\tUse a for loop to print each food the restaurant offers . •\tTry to modify one of the items, and make sure that Python rejects the change . •\tThe restaurant changes its menu, replacing two of the items with different foods . Add a block of code that rewrites the tuple, and then use a for loop to print each of the items on the revised menu ."
      ],
      "metadata": {
        "id": "hJWHVydkNKWy"
      }
    },
    {
      "cell_type": "code",
      "source": [],
      "metadata": {
        "id": "cSPFpvVHN6fQ"
      },
      "execution_count": null,
      "outputs": []
    },
    {
      "cell_type": "code",
      "source": [
        "buffer_menu=[\"soup\",\"salad\",\"dessert\",\"pizza\",\"chicken\"]\n",
        "for item in buffer_menu:\n",
        "  print(item)\n",
        "  #buffer_menu[0]=\"bread\" :couse error\n",
        "  #modyfying the menu\n",
        "  buffer_menu=[\"noodles\",\"sweets\"]\n",
        "  for item in buffer_menu:\n",
        "    print(item)"
      ],
      "metadata": {
        "colab": {
          "base_uri": "https://localhost:8080/"
        },
        "id": "AYP5OMSTN6pj",
        "outputId": "adbf8fa9-ee27-44f1-b7a7-9b0a3f8bac9e"
      },
      "execution_count": 8,
      "outputs": [
        {
          "output_type": "stream",
          "name": "stdout",
          "text": [
            "soup\n",
            "noodles\n",
            "sweets\n",
            "salad\n",
            "noodles\n",
            "sweets\n",
            "dessert\n",
            "noodles\n",
            "sweets\n",
            "pizza\n",
            "noodles\n",
            "sweets\n",
            "chicken\n",
            "noodles\n",
            "sweets\n"
          ]
        }
      ]
    },
    {
      "cell_type": "markdown",
      "source": [],
      "metadata": {
        "id": "e9Oqsnv7RMZ4"
      }
    },
    {
      "cell_type": "markdown",
      "source": [],
      "metadata": {
        "id": "BlPCx0TPS9tX"
      }
    },
    {
      "cell_type": "markdown",
      "source": [
        "5-2. More Conditional Tests: You don’t have to limit the number of tests you create to 10 . If you want to try more comparisons, write more tests and add them to conditional_tests.py . Have at least one True and one False result for each of the following: •\tTests for equality and inequality with strings •\tTests using the lower() function •\tNumerical tests involving equality and inequality, greater than and less than, greater than or equal to, and less than or equal to •\tTests using the and keyword and the or keyword •\tTest whether an item is in a list •\tTest whether an item is not in a list\n"
      ],
      "metadata": {
        "id": "uT4ck8FlS-Mk"
      }
    },
    {
      "cell_type": "code",
      "source": [
        "name_1=\"sadeem\"\n",
        "name_2=\"shazain\"\n",
        "name_3=\"insha\"\n",
        "\n",
        "#equality ofstring\n",
        "\n",
        "if (name_1 == name_3):\n",
        "  print(\"equal!\")\n",
        "else:\n",
        "  print(\"unequal!\")\n",
        "\n",
        "  #inequality of string\n",
        "if(name_1==name_2):\n",
        "  print(\"the name are unequal\")\n",
        "else:\n",
        "  print(\"the names are equal\")\n",
        "\n",
        "#numerical tests\n",
        "\n",
        "age_1=18\n",
        "age_2=23\n",
        "\n",
        "if(age_1==18):\n",
        "  print(\"person is undergradguet\")\n",
        "\n",
        "if(age_1 !=23):\n",
        "  print(\"persone cannot drink\")\n",
        "if(age_1 <= age_2):\n",
        "  print(\"young\")\n",
        "if(age_2 >= age_1):\n",
        "  print(\"older\")\n",
        "\n",
        "  #and/or key word test\n",
        "if(age_1==18 and age_2>=23):\n",
        "  print(\"person is eligible for vote\")\n",
        "if(age_1==18 and age_2==23):\n",
        "  print(\"age difference five year\")\n",
        "#item in list or not\n",
        "\n",
        "fruits=[\"apple\",\"peach\",\"apricote\"]\n",
        "if 'apple' in fruits:\n",
        "  print(\"apple is present in fruits\")\n",
        "\n",
        "if 'banana' in fruits:\n",
        "  print(\"bananan is not in fruits\")\n",
        "\n",
        "\n",
        "\n",
        "\n"
      ],
      "metadata": {
        "colab": {
          "base_uri": "https://localhost:8080/"
        },
        "id": "aE1hcMBMTIlm",
        "outputId": "aed402d6-8c2d-4451-9e3a-eab065459fbb"
      },
      "execution_count": 16,
      "outputs": [
        {
          "output_type": "stream",
          "name": "stdout",
          "text": [
            "unequal!\n",
            "the names are equal\n",
            "person is undergradguet\n",
            "persone cannot drink\n",
            "young\n",
            "older\n",
            "person is eligible for vote\n",
            "age difference five year\n",
            "apple is present in fruits\n"
          ]
        }
      ]
    },
    {
      "cell_type": "markdown",
      "source": [],
      "metadata": {
        "id": "Ib3RlDNPbGRM"
      }
    },
    {
      "cell_type": "code",
      "source": [],
      "metadata": {
        "id": "-zZlf-1jNVA1"
      },
      "execution_count": null,
      "outputs": []
    },
    {
      "cell_type": "markdown",
      "source": [
        "4-11. My Pizzas, Your Pizzas: Start with your program from Exercise 4-1 (page 60) . Make a copy of the list of pizzas, and call it friend_pizzas . Then, do the following: •\tAdd a new pizza to the original list . •\tAdd a different pizza to the list friend_pizzas . •\tProve that you have two separate lists . Print the message, My favorite pizzas are:, and then use a for loop to print the first list . Print the message, My friend’s favorite pizzas are:, and then use a for loop to print the sec- ond list . Make sure each new pizza is stored in the appropriate list ."
      ],
      "metadata": {
        "id": "sbDBOV0CKJpT"
      }
    },
    {
      "cell_type": "code",
      "source": [
        "pizza_shabana=[\"deep disha\",\"sclian\",\"greek\"]\n",
        "friend_pizza=pizza_shabana[:]\n",
        "pizza_shabana.append(\"viggie\")\n",
        "friend_pizza.append(\"chicken tikka\")\n",
        "print(\"My favorite pizzas are:\")\n",
        "for pizza in pizza_shabana:\n",
        "  print(pizza)\n",
        "  print(\"\\n\")\n",
        "print(\"my friends favorite pizza are:\")\n",
        "for pizza in friend_pizza:\n",
        "  print(pizza)\n"
      ],
      "metadata": {
        "colab": {
          "base_uri": "https://localhost:8080/"
        },
        "id": "XU_RwKmyKMlR",
        "outputId": "acd373c6-010a-4cf9-a119-673139f29c57"
      },
      "execution_count": 2,
      "outputs": [
        {
          "output_type": "stream",
          "name": "stdout",
          "text": [
            "My favorite pizzas are:\n",
            "deep disha\n",
            "\n",
            "\n",
            "sclian\n",
            "\n",
            "\n",
            "greek\n",
            "\n",
            "\n",
            "viggie\n",
            "\n",
            "\n",
            "my friends favorite pizza are:\n",
            "deep disha\n",
            "sclian\n",
            "greek\n",
            "chicken tikka\n"
          ]
        }
      ]
    },
    {
      "cell_type": "code",
      "source": [],
      "metadata": {
        "id": "zIlLyHDQNjgq"
      },
      "execution_count": null,
      "outputs": []
    },
    {
      "cell_type": "markdown",
      "source": [],
      "metadata": {
        "id": "3AuVZH6XNkdu"
      }
    },
    {
      "cell_type": "code",
      "source": [],
      "metadata": {
        "id": "5mPGUO6kNlFa"
      },
      "execution_count": null,
      "outputs": []
    }
  ]
}